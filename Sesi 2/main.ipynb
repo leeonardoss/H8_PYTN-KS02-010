{
 "cells": [
  {
   "cell_type": "markdown",
   "source": [
    "# Percabangan dan Perulangan\r\n",
    "Leonardo Budhi Satrio Utomo\r\n",
    "<br> PTYN-KS02-010"
   ],
   "metadata": {}
  },
  {
   "cell_type": "markdown",
   "source": [
    "# Conditional"
   ],
   "metadata": {}
  },
  {
   "cell_type": "code",
   "execution_count": 41,
   "source": [
    "a = 10\r\n",
    "b = 20\r\n",
    "print (a == b)"
   ],
   "outputs": [
    {
     "output_type": "stream",
     "name": "stdout",
     "text": [
      "False\n"
     ]
    }
   ],
   "metadata": {}
  },
  {
   "cell_type": "code",
   "execution_count": 42,
   "source": [
    "x = 0\r\n",
    "y = 5\r\n",
    "\r\n",
    "if x < y:                            # Truthy\r\n",
    "    print('yes')\r\n",
    "\r\n",
    "if y < x:                            # Falsy\r\n",
    "    print('yes')\r\n",
    "\r\n",
    "if x:                                # Falsy\r\n",
    "    print('yes')\r\n",
    "\r\n",
    "if y:                                # Truthy\r\n",
    "    print('yes')"
   ],
   "outputs": [
    {
     "output_type": "stream",
     "name": "stdout",
     "text": [
      "yes\n",
      "yes\n"
     ]
    }
   ],
   "metadata": {}
  },
  {
   "cell_type": "code",
   "execution_count": 43,
   "source": [
    "if 'aul' in 'grault':                # Truthy\r\n",
    "    print('yes')\r\n",
    "\r\n",
    "if 'quux' in ['foo', 'bar', 'baz']:  # Falsy\r\n",
    "    print('yes')\r\n"
   ],
   "outputs": [
    {
     "output_type": "stream",
     "name": "stdout",
     "text": [
      "yes\n"
     ]
    }
   ],
   "metadata": {}
  },
  {
   "cell_type": "markdown",
   "source": [
    "## Grouping Statement"
   ],
   "metadata": {}
  },
  {
   "cell_type": "code",
   "execution_count": 44,
   "source": [
    "# Does line execute?                        Yes    No\r\n",
    "#                                           ---    --\r\n",
    "if 'foo' in ['foo', 'bar', 'baz']:        #  x\r\n",
    "    print('Outer condition is true')      #  x\r\n",
    "\r\n",
    "    if 10 > 20:                           #  x\r\n",
    "        print('Inner condition 1')        #        x\r\n",
    "\r\n",
    "    print('Between inner conditions')     #  x\r\n",
    "\r\n",
    "    if 10 < 20:                           #  x\r\n",
    "        print('Inner condition 2')        #  x\r\n",
    "\r\n",
    "    print('End of outer condition')       #  x\r\n",
    "print('After outer condition')            #  x"
   ],
   "outputs": [
    {
     "output_type": "stream",
     "name": "stdout",
     "text": [
      "Outer condition is true\n",
      "Between inner conditions\n",
      "Inner condition 2\n",
      "End of outer condition\n",
      "After outer condition\n"
     ]
    }
   ],
   "metadata": {}
  },
  {
   "cell_type": "code",
   "execution_count": 45,
   "source": [
    "x = 20\r\n",
    "\r\n",
    "if x < 50:\r\n",
    "    print('(first suite)')\r\n",
    "    print('x is small')\r\n",
    "else:\r\n",
    "    print('(second suite)')\r\n",
    "    print('x is large')"
   ],
   "outputs": [
    {
     "output_type": "stream",
     "name": "stdout",
     "text": [
      "(first suite)\n",
      "x is small\n"
     ]
    }
   ],
   "metadata": {}
  },
  {
   "cell_type": "markdown",
   "source": [
    "## Else and elif clause"
   ],
   "metadata": {}
  },
  {
   "cell_type": "code",
   "execution_count": 46,
   "source": [
    "name = 'Hacktiv8'\r\n",
    "if name == 'Fred':\r\n",
    "    print('Hello Fred')\r\n",
    "elif name == 'Xander':\r\n",
    "    print('Hello Xander')\r\n",
    "elif name == 'Hacktiv8':\r\n",
    "    print('Hello Hacktiv8')\r\n",
    "elif name == 'Arnold':\r\n",
    "    print('Hello Arnold')\r\n",
    "else:\r\n",
    "    print(\"I don't know who you are!\")"
   ],
   "outputs": [
    {
     "output_type": "stream",
     "name": "stdout",
     "text": [
      "Hello Hacktiv8\n"
     ]
    }
   ],
   "metadata": {}
  },
  {
   "cell_type": "code",
   "execution_count": 47,
   "source": [
    "hargaBuku = 20000\r\n",
    "hargaMajalah = 5000\r\n",
    "uang = 2000\r\n",
    "\r\n",
    "if uang > hargaBuku:\r\n",
    "    print(\"beli buku\")\r\n",
    "elif uang > hargaMajalah:\r\n",
    "    print(\"beli majalah\")\r\n",
    "else:\r\n",
    "    print(\"uang tidak cukup\")"
   ],
   "outputs": [
    {
     "output_type": "stream",
     "name": "stdout",
     "text": [
      "uang tidak cukup\n"
     ]
    }
   ],
   "metadata": {}
  },
  {
   "cell_type": "code",
   "execution_count": 48,
   "source": [
    "if 'a' in 'bar':\r\n",
    "    print('foo')\r\n",
    "elif 1/0:\r\n",
    "    print(\"This won't happen\")\r\n",
    "elif var:\r\n",
    "    print(\"This won't either\")"
   ],
   "outputs": [
    {
     "output_type": "stream",
     "name": "stdout",
     "text": [
      "foo\n"
     ]
    }
   ],
   "metadata": {}
  },
  {
   "cell_type": "code",
   "execution_count": 49,
   "source": [
    "if 'f' in 'foo': print('1'); print('2'); print('3')"
   ],
   "outputs": [
    {
     "output_type": "stream",
     "name": "stdout",
     "text": [
      "1\n",
      "2\n",
      "3\n"
     ]
    }
   ],
   "metadata": {}
  },
  {
   "cell_type": "code",
   "execution_count": 50,
   "source": [
    "if 'z' in 'foo': print('1'); print('2'); print('3')"
   ],
   "outputs": [],
   "metadata": {}
  },
  {
   "cell_type": "code",
   "execution_count": 51,
   "source": [
    "x = 2\r\n",
    "\r\n",
    "if x == 1: print('foo'); print('bar'); print('baz')\r\n",
    "elif x == 2: print('qux'); print('quux')\r\n",
    "else: print('corge'); print('grault')"
   ],
   "outputs": [
    {
     "output_type": "stream",
     "name": "stdout",
     "text": [
      "qux\n",
      "quux\n"
     ]
    }
   ],
   "metadata": {}
  },
  {
   "cell_type": "markdown",
   "source": [
    "## Conditional Expressions"
   ],
   "metadata": {}
  },
  {
   "cell_type": "code",
   "execution_count": 52,
   "source": [
    "raining = False\r\n",
    "print(\"Let's go to the\" , \"beach\" if not raining else \"library\")\r\n",
    "\r\n",
    "raining = True\r\n",
    "print(\"Let's go to the\" , \"beach\" if not raining else \"library\")"
   ],
   "outputs": [
    {
     "output_type": "stream",
     "name": "stdout",
     "text": [
      "Let's go to the beach\n",
      "Let's go to the library\n"
     ]
    }
   ],
   "metadata": {}
  },
  {
   "cell_type": "code",
   "execution_count": 3,
   "source": [
    "age = 32\r\n",
    "s = \"teen\" if age <21 else \"adult\"\r\n",
    "s"
   ],
   "outputs": [
    {
     "output_type": "execute_result",
     "data": {
      "text/plain": [
       "'adult'"
      ]
     },
     "metadata": {},
     "execution_count": 3
    }
   ],
   "metadata": {}
  },
  {
   "cell_type": "markdown",
   "source": [
    "## Python pass statement"
   ],
   "metadata": {}
  },
  {
   "cell_type": "code",
   "execution_count": 4,
   "source": [
    "if True:\r\n",
    "    pass\r\n",
    "print(\"foo\")"
   ],
   "outputs": [
    {
     "output_type": "stream",
     "name": "stdout",
     "text": [
      "foo\n"
     ]
    }
   ],
   "metadata": {}
  },
  {
   "cell_type": "markdown",
   "source": [
    "# Iteration"
   ],
   "metadata": {}
  },
  {
   "cell_type": "code",
   "execution_count": 5,
   "source": [
    "n = 5\r\n",
    "while n>0:\r\n",
    "    print(n)\r\n",
    "    n=n-1"
   ],
   "outputs": [
    {
     "output_type": "stream",
     "name": "stdout",
     "text": [
      "5\n",
      "4\n",
      "3\n",
      "2\n",
      "1\n"
     ]
    }
   ],
   "metadata": {}
  },
  {
   "cell_type": "code",
   "execution_count": 6,
   "source": [
    "i = 1\r\n",
    "while i <6:\r\n",
    "    print(i)\r\n",
    "    i+=1"
   ],
   "outputs": [
    {
     "output_type": "stream",
     "name": "stdout",
     "text": [
      "1\n",
      "2\n",
      "3\n",
      "4\n",
      "5\n"
     ]
    }
   ],
   "metadata": {}
  },
  {
   "cell_type": "markdown",
   "source": [
    "## Python break and continue statement"
   ],
   "metadata": {}
  },
  {
   "cell_type": "code",
   "execution_count": 7,
   "source": [
    "n = 5\r\n",
    "while n > 0:\r\n",
    "    n -= 1\r\n",
    "    if n == 2:\r\n",
    "        break # Break Statement\r\n",
    "    print(n)\r\n",
    "print('Loop ended.')"
   ],
   "outputs": [
    {
     "output_type": "stream",
     "name": "stdout",
     "text": [
      "4\n",
      "3\n",
      "Loop ended.\n"
     ]
    }
   ],
   "metadata": {}
  },
  {
   "cell_type": "code",
   "execution_count": 8,
   "source": [
    "n = 5\r\n",
    "while n > 0:\r\n",
    "    n -= 1\r\n",
    "    if n == 2:\r\n",
    "        continue\r\n",
    "    print(n)\r\n",
    "print('Loop ended.')"
   ],
   "outputs": [
    {
     "output_type": "stream",
     "name": "stdout",
     "text": [
      "4\n",
      "3\n",
      "1\n",
      "0\n",
      "Loop ended.\n"
     ]
    }
   ],
   "metadata": {}
  },
  {
   "cell_type": "markdown",
   "source": [
    "## Nested loops"
   ],
   "metadata": {}
  },
  {
   "cell_type": "code",
   "execution_count": 13,
   "source": [
    "age = 23\r\n",
    "gender = \"M\"\r\n",
    "\r\n",
    "if age < 18:\r\n",
    "    if gender == 'M':\r\n",
    "        print('son')\r\n",
    "    else:\r\n",
    "        print('daughter')\r\n",
    "elif age >= 18 and age < 65:\r\n",
    "    if gender == 'M':\r\n",
    "        print('father')\r\n",
    "    else:\r\n",
    "        print('mother')\r\n",
    "else:\r\n",
    "    if gender == 'M':\r\n",
    "        print('grandfather')\r\n",
    "    else:\r\n",
    "        print('grandmother')"
   ],
   "outputs": [
    {
     "output_type": "stream",
     "name": "stdout",
     "text": [
      "father\n"
     ]
    }
   ],
   "metadata": {}
  },
  {
   "cell_type": "code",
   "execution_count": null,
   "source": [],
   "outputs": [],
   "metadata": {}
  }
 ],
 "metadata": {
  "orig_nbformat": 4,
  "language_info": {
   "name": "python",
   "version": "3.8.8",
   "mimetype": "text/x-python",
   "codemirror_mode": {
    "name": "ipython",
    "version": 3
   },
   "pygments_lexer": "ipython3",
   "nbconvert_exporter": "python",
   "file_extension": ".py"
  },
  "kernelspec": {
   "name": "python3",
   "display_name": "Python 3.8.8 64-bit ('base': conda)"
  },
  "interpreter": {
   "hash": "b3ba2566441a7c06988d0923437866b63cedc61552a5af99d1f4fb67d367b25f"
  }
 },
 "nbformat": 4,
 "nbformat_minor": 2
}